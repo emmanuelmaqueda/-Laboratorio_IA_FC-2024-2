{
  "nbformat": 4,
  "nbformat_minor": 0,
  "metadata": {
    "colab": {
      "provenance": []
    },
    "kernelspec": {
      "name": "python3",
      "display_name": "Python 3"
    },
    "language_info": {
      "name": "python"
    }
  },
  "cells": [
    {
      "cell_type": "markdown",
      "source": [
        "Para comparar los algoritmos de búsqueda informada conviene definir un problema que cuente con una función de costo. El problema que aquí definiremos es el problema del laberinto: que un agente, iniciando de un punto arbitrario de un mapa, pueda llegar a una meta o punto final marcado en el mapa; además, introducimos un nuevo factor para determinar el costo de cada acción en un estado dado. Este nuevo factor puede verse como el \"tráfico\": así, moverse a ciertas regiones del laberinto le costará más al agente que moverse hacia otras. En particular definimos 3 tipos de costo:\n",
        "\n",
        "Tráfico pesado: son regiones en que el costo de moverse es de 3.\n",
        "Tráfico ligero: son regiones en que el costo de moverse es de 2.\n",
        "No tráfico: son regiones en el que el costo de moverse es de 1.\n",
        "En una aplicación real, se podría considerar el promedio de tiempo de transitar por estas regiones, si se cuenta con esta información. En este caso simplificamos el proceso tomando en cuenta estos valores.\n",
        "\n",
        "Para incluir el costo dentro del modelo simplemente definimos una función de costo que tome en cuenta estos valores de tráfico. Estos valores se toman de un mapa que representamos como cadena de texto; cada valor de tráfico se representa con un símbolo textual:\n",
        "\n",
        "Tráfico pesado: símbolo '-' (guión)\n",
        "Tráfico ligero: símbolo '.' (punto)\n",
        "No tráfico: símbolo ' ' (espacio)"
      ],
      "metadata": {
        "id": "Im4iLBY-qso5"
      }
    },
    {
      "cell_type": "code",
      "execution_count": 4,
      "metadata": {
        "id": "o4Iu4I_6p-sI"
      },
      "outputs": [],
      "source": [
        "class Maze(object):\n",
        "    \"\"\"Simulador de laberinto\"\"\"\n",
        "    def __init__(self, board):\n",
        "        #Define el laberinto\n",
        "        self.board = [list(x) for x in board.split(\"\\n\") if x]\n",
        "        #Guardo el estado inicial\n",
        "        self.goal = None\n",
        "\n",
        "        for y in range(len(self.board)):\n",
        "            for x in range(len(self.board[y])):\n",
        "                if self.board[y][x] == 'o':\n",
        "                    #El inicial es el estado con el símbolo 'o'\n",
        "                    self.initial = (x,y)\n",
        "                elif self.board[y][x] == 'x':\n",
        "                    #La meta es el estado con el símbolo 'x'\n",
        "                    self.goal = (x,y)\n",
        "\n",
        "    def __str__(self):\n",
        "        return '\\n'.join([''.join(symbols) for symbols in self.board])\n",
        "\n",
        "    def actions(self, state):\n",
        "        \"\"\"Define las posibles acciones permitidas en cada estado\"\"\"\n",
        "        actions = []\n",
        "        for action in [\"up\",\"down\",\"left\",\"right\"]:\n",
        "            newx, newy = self.result(state, action)\n",
        "            #Una acción no permitida es aquella donde se\n",
        "            #topa con un símbolo # que indica pared\n",
        "            if self.board[newy][newx] != \"#\":\n",
        "                actions.append(action)\n",
        "        return actions\n",
        "\n",
        "    def result(self, state, action):\n",
        "        \"\"\"Calcula el estado resultante de la acción\"\"\"\n",
        "        x, y = state\n",
        "        if action.count(\"up\"):\n",
        "            y -= 1\n",
        "        if action.count(\"down\"):\n",
        "            y += 1\n",
        "        if action.count(\"left\"):\n",
        "            x -= 1\n",
        "        if action.count(\"right\"):\n",
        "            x += 1\n",
        "\n",
        "        new_state = (x, y)\n",
        "        return new_state\n",
        "\n",
        "    def move(self, state, new_state, symbol='o'):\n",
        "        \"\"\"Cambia la posición del agente de un estado a otro\"\"\"\n",
        "        x,y = state\n",
        "        new_x, new_y = new_state\n",
        "        if self.board[new_y][new_x] == ' ':\n",
        "            self.board[y][x] = ' '\n",
        "            self.board[new_y][new_x] = symbol\n",
        "        else:\n",
        "            pass\n",
        "\n",
        "    def cost(self, prev, action, next, normal=' ',low='.',high='-'):\n",
        "        \"\"\"Función de costo con base en 'tráfico'\"\"\"\n",
        "        res = self.board[next[1]][next[0]]\n",
        "        #Situación de costo normal\n",
        "        if res == normal:\n",
        "            return 1\n",
        "        #Tráfico ligero\n",
        "        elif res == low:\n",
        "            return 2\n",
        "        #Tráfico alto\n",
        "        elif res == high:\n",
        "            return 3\n",
        "        #Casos donde está el final\n",
        "        else:\n",
        "            return 0\n",
        "\n",
        "    def draw(self, low='.', high='-'):\n",
        "        \"\"\"Dibuja el mapa\"\"\"\n",
        "        import matplotlib.pyplot as plt\n",
        "        import numpy as np\n",
        "\n",
        "        img = np.ones((len(self.board), len(self.board[0]), 4))\n",
        "        for i, row in enumerate(self.board):\n",
        "            for j, element in enumerate(row):\n",
        "                if element == '#':\n",
        "                    img[i,j] = np.array([0,0,0,1])\n",
        "                elif element == 'o':\n",
        "                    img[i,j] = np.array([0.2,0.5,0.8,1])\n",
        "                elif element == 'x':\n",
        "                    img[i,j] = np.array([0.2,0.9,0.5,1])\n",
        "                elif element == high:\n",
        "                    img[i,j] = np.array([1,0.2,0.2,0.4])\n",
        "                elif element == low:\n",
        "                    img[i,j] = np.array([0.9,0.6,0.3,0.4])\n",
        "\n",
        "        plt.imshow(img)\n",
        "        plt.show()\n",
        "\n",
        "    def is_goal(self, state):\n",
        "        \"\"\"Determina si un estado es meta\"\"\"\n",
        "        return state == self.goal"
      ]
    },
    {
      "cell_type": "code",
      "source": [
        "mapa = \"\"\"\n",
        "##############################\n",
        "# o------...#                #\n",
        "# ####------########         #\n",
        "#    #------#           #    #\n",
        "#    ###-      #####-####....#\n",
        "#      #-    ###   #-....    #\n",
        "#  #    .      #   #---------x\n",
        "##############################\n",
        "\"\"\"\n",
        "\n",
        "ent = Maze(mapa)\n",
        "ent.draw()"
      ],
      "metadata": {
        "colab": {
          "base_uri": "https://localhost:8080/",
          "height": 192
        },
        "id": "A6B1TI44qzlI",
        "outputId": "342da271-0984-483c-b9d8-53bd1040f89a"
      },
      "execution_count": 5,
      "outputs": [
        {
          "output_type": "display_data",
          "data": {
            "text/plain": [
              "<Figure size 640x480 with 1 Axes>"
            ],
            "image/png": "[encoded data removed]"
          },
          "metadata": {}
        }
      ]
    },
    {
      "cell_type": "code",
      "source": [
        "#Movimiento a la derecha\n",
        "r_state = ent.result(ent.initial, \"right\")\n",
        "print(\"Costo (derecha): {}\".format(ent.cost(ent.initial, \"right\", r_state)))\n",
        "#Movimiento a la izquierda\n",
        "l_state = ent.result(ent.initial, \"left\")\n",
        "print(\"Costo (izquierda): {}\".format(ent.cost(ent.initial, \"left\", l_state)))"
      ],
      "metadata": {
        "colab": {
          "base_uri": "https://localhost:8080/"
        },
        "id": "IAAMJR7oq-AZ",
        "outputId": "e9aa035e-859e-4d25-9dd9-c197ed48bbe5"
      },
      "execution_count": 6,
      "outputs": [
        {
          "output_type": "stream",
          "name": "stdout",
          "text": [
            "Costo (derecha): 3\n",
            "Costo (izquierda): 1\n"
          ]
        }
      ]
    },
    {
      "cell_type": "markdown",
      "source": [
        "##Algoritmo de búsqueda A∗\n",
        "\n",
        "El algoritmo de A∗ es el algoritmo más reconocido dentro de la búsqueda heurística. Este algoritmo incorpora una heurística y la combina con la función de costo para buscar encontrar la solución óptima al problema. A diferencia del algoritmo de primero mejor ambicioso, el tomar en cuenta el costo va a permitir que la solución si sea óptima, **siempre y cuando se cumplan la condición de que la heurística sea admisible.**\n",
        "\n",
        "En el contexto de búsqueda A*, la heurística de distancia euclidiana es una función estimativa que se utiliza para prever la distancia restante desde un nodo dado hasta el objetivo en un grafo o espacio de búsqueda. A* es un algoritmo de búsqueda informada que utiliza tanto el costo acumulado desde el inicio como la estimación heurística para seleccionar el próximo nodo a expandir.\n",
        "\n",
        "La distancia euclidiana es una medida directa en línea recta entre dos puntos en un espacio tridimensional, y la heurística de distancia euclidiana en A* se basa en esta métrica. La fórmula para la distancia euclidiana entre dos puntos (x1, y1) y (x2, y2) en un plano cartesiano es:\n",
        "\n",
        "![image.png](data:image/png;base64,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)\n"
      ],
      "metadata": {
        "id": "-Px_5A-QrXf-"
      }
    },
    {
      "cell_type": "markdown",
      "source": [
        "Esta heurística es admisible pues nunca sobre estima el costo óptimo del camino. Esto es fácil de ver como la heurística asume un camino recto desde el punto en que se encuentra el agente, hasta la meta; mientras que el camino óptimo se enfrenta a los obstáculos y al tráfico. Entonces, podemos garantizar que:\n",
        "\n",
        "![image.png](data:image/png;base64,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)\n",
        "\n",
        "Donde C∗ es el costo del camino óptimo. Ya que la heurística es admisible, podemos garantizar que el algoritmo encontrará una solución óptima."
      ],
      "metadata": {
        "id": "pjF3iXcosUJY"
      }
    },
    {
      "cell_type": "code",
      "source": [
        "def h(state, goal,p=2):\n",
        "    \"\"\"Heurísitca euclideana\"\"\"\n",
        "    x1,y1 = state\n",
        "    x2,y2 = goal\n",
        "    #Obtiene distancia euclideana\n",
        "    dist = ((x2-x1)**p + (y2-y1)**p)**(1/p)\n",
        "\n",
        "    return dist.real\n"
      ],
      "metadata": {
        "id": "k74qXArNrW6u"
      },
      "execution_count": 7,
      "outputs": []
    },
    {
      "cell_type": "markdown",
      "source": [
        "## Creación del algoritmo A∗\n",
        "Para crear el algoritmo necesitamos utilizar una pila de prioridad que tome el nodo con menor costo y menor heurística.\n",
        "\n",
        "La pila de prioridad va a tomar como elemento de salida aquel que tenga la prioridad más alta. En general, esta prioridad se toma como el argumento que maximiza una función de prioridad. Sin embargo, como aquí estamos usando una métrica, lo ideal es que está sea lo más pequeña posible (que estemos más cerca de la meta). Por tanto, en lugar de tomar el elemento con el valor más grande, tomaremos el elemento con el valor más pequeño, que equivale a tomar aquel elemento que maximiza el valor menor de la heurística.\n",
        "\n",
        "![image.png](data:image/png;base64,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)\n",
        "\n"
      ],
      "metadata": {
        "id": "aDJansnB7DvT"
      }
    },
    {
      "cell_type": "code",
      "source": [
        "class PriorityQueue(object):\n",
        "    \"\"\"Clase de una cola de prioridad en los problemas de búsqueda.\"\"\"\n",
        "    def __init__(self,f=lambda x: 1):\n",
        "        self.queue = []\n",
        "        self.f = f\n",
        "\n",
        "    def __str__(self):\n",
        "        return ' '.join([str(q) for q in self.queue])\n",
        "\n",
        "    def isEmpty(self):\n",
        "        return self.queue == []\n",
        "\n",
        "    def push(self, element):\n",
        "        \"\"\"Agrega elementos a la pila\"\"\"\n",
        "        self.queue.append(element)\n",
        "\n",
        "    def pop(self):\n",
        "        \"\"\"Saca de la pila el elemento con mayor valor f.\"\"\"\n",
        "        #Encuentra el elemento máximo en base al costo\n",
        "        min_element = np.argmin([element.f for element in self.queue])\n",
        "        #Guarda el elemento máximo\n",
        "        item = self.queue[min_element]\n",
        "        #Borra este elemento de la cola\n",
        "        del self.queue[min_element]\n",
        "\n",
        "        return item"
      ],
      "metadata": {
        "id": "CyziumOX6-hB"
      },
      "execution_count": 8,
      "outputs": []
    },
    {
      "cell_type": "markdown",
      "source": [
        "## Nodo y expansión\n",
        "Los nodos tendrán la misma estructura que hemos venido utilizando, guardando el costo y la función de prioridad f\n",
        "\n",
        "Pero en el algoritmo de A∗ está función tomará en cuenta tanto el costo como la heurística. Podemos ver que entonces la función f estará dada como:\n",
        "\n",
        "![image.png](data:image/png;base64,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)\n",
        "\n",
        "Donde g(n) es el costo del camino desde el nodo inicial hasta el nodo actual. Entonces, al crear el nuevo nodo tomaremos en cuenta esta forma de obtener los valores de f.\n",
        "\n"
      ],
      "metadata": {
        "id": "tE-I6mOb8MfQ"
      }
    },
    {
      "cell_type": "code",
      "source": [
        "class Node(object):\n",
        "    \"\"\"Clase para crear nodos con sus atributos.\"\"\"\n",
        "    def __init__(self):\n",
        "        self.state = (0,0)\n",
        "        self.parent = None\n",
        "        self.action = None\n",
        "        self.cost = 0\n",
        "        self.f = 0\n",
        "\n",
        "    def __str__(self):\n",
        "        if self.parent == None:\n",
        "            return \"State: {}\".format(self.state)\n",
        "        else:\n",
        "            return \"State: {}, Action: {}, Parent: {}\".format(self.state,self.action,self.parent.state)\n",
        "\n",
        "def expand(problem, node):\n",
        "    \"\"\"Función para expandir los nodos dado el problema\"\"\"\n",
        "    s = node.state\n",
        "    for action in problem.actions(s):\n",
        "        #Aplica la función de resultado\n",
        "        new_s = problem.result(s, action)\n",
        "        #Crea el nuevo nodo\n",
        "        new_node,new_node.state,new_node.parent,new_node.action = Node(),new_s,node,action\n",
        "        #Agrega el costo\n",
        "        new_node.cost = node.cost + problem.cost(s,action,new_s)\n",
        "        #Agrega sólo la heurística al nodo\n",
        "        new_node.f = new_node.cost + h(new_s, problem.goal)\n",
        "\n",
        "        yield new_node"
      ],
      "metadata": {
        "id": "krkqMdRc8kjI"
      },
      "execution_count": 9,
      "outputs": []
    },
    {
      "cell_type": "markdown",
      "source": [
        "##Algoritmo  A∗\n",
        "El algoritmo de A∗ es similar el algoritmo de dijkstra, extendiendo este al incorporar tanto la función de costo como al función heurística.\n",
        "\n"
      ],
      "metadata": {
        "id": "2gFfqmui8qy5"
      }
    },
    {
      "cell_type": "markdown",
      "source": [
        "Inicialización:\n",
        "\n",
        "* Se crea una lista vacía nodes para almacenar los nodos visitados durante la ejecución del algoritmo.\n",
        "* Se crea un nodo node que representa el estado inicial del problema.\n",
        "* Se establece el estado del nodo inicial como el estado inicial del problema.\n",
        "* Se crea una cola de prioridad frontier que se utilizará para almacenar los nodos a explorar, ordenados por su costo estimado.\n",
        "\n",
        "\n",
        "Bucle Principal:\n",
        "\n",
        "* Se inicia un bucle mientras la frontera (frontier) no esté vacía.\n",
        "* En cada iteración del bucle, se extrae el nodo de la frontera con menor costo estimado según la función de evaluación f = g + h (donde g es el costo real desde el nodo inicial hasta el nodo actual, y h es la heurística estimada desde el nodo actual hasta el objetivo).\n",
        "* El nodo extraído se agrega a la lista nodes.\n",
        "\n",
        "\n",
        "Verificación del Estado Objetivo:\n",
        "\n",
        "* Se verifica si el estado del nodo extraído es igual al estado objetivo del problema.\n",
        "* Si es así, se ha encontrado un camino óptimo, y la lista de nodos nodes se devuelve como resultado.\n",
        "\n",
        "\n",
        "Expansión de Nodos:\n",
        "\n",
        "* Si el estado no es el objetivo, se expande el nodo actual generando sus sucesores (hijos).\n",
        "* Para cada hijo generado, se verifica si ya ha sido alcanzado (reached).\n",
        "* Si no ha sido alcanzado o tiene un costo menor, se actualiza y se agrega a la frontera.\n",
        "\n",
        "Finalización:\n",
        "\n",
        "* Si la frontera se vacía y no se ha alcanzado el estado objetivo, se devuelve un mensaje de error indicando que no se logró llegar a un estado final.\n",
        "\n",
        "\n",
        "En resumen, el algoritmo A* utiliza una combinación de búsqueda en profundidad y heurísticas para encontrar un camino óptimo desde el estado inicial hasta el estado objetivo en un problema dado. La cola de prioridad garantiza que los nodos con menor costo estimado se exploren primero. Este algoritmo es eficiente y proporciona una solución óptima si la heurística es admisible y consistente."
      ],
      "metadata": {
        "id": "UO5wGirfmt_t"
      }
    },
    {
      "cell_type": "code",
      "source": [
        "def AStar(problem):\n",
        "    \"\"\"Algoritmo A* para generar el camino más apto\"\"\"\n",
        "    #Almacenamiento de nodos\n",
        "    nodes = []\n",
        "    #Nodo inicial\n",
        "    node = Node()\n",
        "    node.state = problem.initial\n",
        "    #Frontera con cola de prioridad\n",
        "    frontier = PriorityQueue()\n",
        "    frontier.push(node)\n",
        "    #Nodos alcanzados\n",
        "    reached = {problem.initial:node}\n",
        "\n",
        "    #Mientras la frontera no esté vacía\n",
        "    while frontier.isEmpty() == False:\n",
        "        #Pop en frontera\n",
        "        node = frontier.pop()\n",
        "        #Guarda el nodo en la lista\n",
        "        nodes.append(node)\n",
        "        #Actualiza el estado del problema\n",
        "        problem.state = node.state\n",
        "\n",
        "        #Si llega a un estado final se detiene\n",
        "        #y regresa el camino de nodos\n",
        "        if problem.state == problem.goal:\n",
        "            return nodes\n",
        "\n",
        "        #Expande el nodo actual\n",
        "        expantion = expand(problem, node)\n",
        "        for child in expantion:\n",
        "            #Guarda estado de los hijos\n",
        "            state = child.state\n",
        "            #Guarda los hijos no alcanzados o que tengan menor costo\n",
        "            if state not in reached.keys() or child.f < reached[state].f:\n",
        "                reached[state] = child\n",
        "                frontier.push(child)\n",
        "\n",
        "    #Si no logra llegar a un nodo final\n",
        "    #El algoritmo regresa mensaje de error\n",
        "    return \"No se ha logrado llegar a un estado final.\""
      ],
      "metadata": {
        "id": "kCK7qZvh9oYT"
      },
      "execution_count": 10,
      "outputs": []
    },
    {
      "cell_type": "code",
      "source": [
        "import numpy as np\n",
        "tree = AStar(ent)\n",
        "\n",
        "def get_path(search_tree, root):\n",
        "    \"\"\"Recupera la solución.\"\"\"\n",
        "    leaf = search_tree[::-1][0]\n",
        "    parent = leaf.parent\n",
        "    path = [leaf, parent]\n",
        "    while parent.state != root:\n",
        "        parent = parent.parent\n",
        "        path.append(parent)\n",
        "\n",
        "    return path[::-1]\n",
        "\n",
        "\n",
        "ent.draw()\n",
        "\n",
        "#Visualiza la solución\n",
        "prev_s = ent.initial\n",
        "for n in get_path(tree, ent.initial):\n",
        "    ent.move(prev_s, n.state)\n",
        "    prev_s = n.state\n",
        "\n",
        "print('Solución')\n",
        "ent.draw()\n",
        "print('Costo total: {}'.format(tree[-1].cost))"
      ],
      "metadata": {
        "colab": {
          "base_uri": "https://localhost:8080/",
          "height": 402
        },
        "id": "V1qhjslf9wJN",
        "outputId": "418d5676-6472-4857-cb84-f0b461b803d1"
      },
      "execution_count": 13,
      "outputs": [
        {
          "output_type": "display_data",
          "data": {
            "text/plain": [
              "<Figure size 640x480 with 1 Axes>"
            ],
            "image/png": "[encoded data removed]"
          },
          "metadata": {}
        },
        {
          "output_type": "stream",
          "name": "stdout",
          "text": [
            "Solución\n"
          ]
        },
        {
          "output_type": "display_data",
          "data": {
            "text/plain": [
              "<Figure size 640x480 with 1 Axes>"
            ],
            "image/png": "[encoded data removed]"
          },
          "metadata": {}
        },
        {
          "output_type": "stream",
          "name": "stdout",
          "text": [
            "Costo total: 40\n"
          ]
        }
      ]
    },
    {
      "cell_type": "markdown",
      "source": [
        "![image.png](data:image/png;base64,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)"
      ],
      "metadata": {
        "id": "gwr76Rw3-CMz"
      }
    }
  ]
}