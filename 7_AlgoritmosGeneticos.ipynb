{
  "nbformat": 4,
  "nbformat_minor": 0,
  "metadata": {
    "colab": {
      "provenance": []
    },
    "kernelspec": {
      "name": "python3",
      "display_name": "Python 3"
    },
    "language_info": {
      "name": "python"
    }
  },
  "cells": [
    {
      "cell_type": "markdown",
      "source": [
        "##Algoritmos genéticos\n",
        "\n",
        "Los algoritmos genéticos son algoritmos basados en conceptos biológicos sobre la evolución. Son parte de los algoritmos evolutivos y se basan, precisamente, en la idea de que hay una evolución de los individuos a partir de diferentes procesos biológicos: selección, reproducción, mutación, reemplazo.\n",
        "\n",
        "* Codificación de soluciones: En un algoritmo genético, las soluciones potenciales al problema que se está resolviendo se representan mediante estructuras llamadas cromosomas o individuos. Estas estructuras son codificadas de alguna manera para que puedan ser manipuladas y evaluadas por el algoritmo.\n",
        "\n",
        "* Población inicial: Se crea una población inicial de individuos de manera aleatoria o mediante algún método de inicialización. Esta población inicial representa una colección diversa de soluciones potenciales al problema.\n",
        "\n",
        "* Evaluación de la aptitud: Cada individuo en la población se evalúa utilizando una función de aptitud (fitness) que asigna un valor numérico que indica qué tan buena es la solución representada por ese individuo en términos del problema que se está resolviendo. Esta función de aptitud puede ser diseñada de acuerdo con los requisitos específicos del problema.\n",
        "\n",
        "* Selección: Selecciona individuos de la población actual para reproducirse y formar la próxima generación de individuos. La probabilidad de selección está influenciada por la aptitud de cada individuo; los individuos más aptos tienen una mayor probabilidad de ser seleccionados.\n",
        "\n",
        "* Reproducción: Los individuos seleccionados se cruzan entre sí para producir descendencia. Este proceso de cruce implica combinar partes de los cromosomas de los padres para crear nuevos individuos. El cruce puede ser realizado de diferentes maneras, como el cruce de un solo punto, el cruce de múltiples puntos o el cruce uniforme.\n",
        "\n",
        "* Mutación: Ocasionalmente, se aplican mutaciones a los individuos para introducir variabilidad genética en la población. La mutación implica cambiar aleatoriamente algunos de los genes en los cromosomas de los individuos. Este proceso ayuda a explorar nuevas regiones del espacio de búsqueda y evitar la convergencia prematura hacia una solución subóptima.\n",
        "\n",
        "* Reemplazo: La nueva generación reemplaza a la generación anterior, y el proceso se repite durante un número predeterminado de generaciones o hasta que se cumple algún criterio de terminación, como alcanzar una solución aceptable o agotar un límite de tiempo o de evaluaciones de aptitud.\n",
        "\n",
        "Los algoritmos genéticos son eficaces para explorar y buscar soluciones en espacios de búsqueda complejos y multidimensionales, y son especialmente útiles cuando la información sobre la estructura del problema es limitada o no se puede utilizar de manera eficaz mediante otros métodos de optimización."
      ],
      "metadata": {
        "id": "tSSqlEHW68fL"
      }
    },
    {
      "cell_type": "markdown",
      "source": [
        "\n",
        "**Iniciamos nuestro algoritmo genético definiendo los parámetros principales:** el objetivo que queremos alcanzar (en nuestro caso, la cadena \"HELLO WORLD\"), el tamaño de la población (cuántas soluciones consideramos en cada generación), y la tasa de mutación (qué tan probable es que una solución mute).\n",
        "\n",
        "\n",
        "####**Funciones de Operaciones Genéticas:**\n",
        "\n",
        "**generate_random_string:** Genera una cadena aleatoria del mismo tamaño que nuestro objetivo. Esto es como si estuviéramos creando individuos con diferentes combinaciones de genes.\n",
        "\n",
        "**fitness:** Evalúa qué tan buena es una cadena comparada con nuestro objetivo \"HELLO WORLD\". Devuelve un número que representa la cantidad de letras correctas.\n",
        "\n",
        "**selection:** Selecciona individuos para reproducirse. Usamos un método similar a una ruleta, donde los individuos más aptos tienen una mayor probabilidad de ser seleccionados.\n",
        "\n",
        "**crossover:** Cruza dos cadenas para producir descendencia. Imagínalo como la combinación de partes de las cadenas de los padres para crear nuevas cadenas, como mezclar los genes de los padres.\n",
        "\n",
        "**mutate:** Introduce variabilidad en la población al cambiar aleatoriamente algunos caracteres en una cadena. Esto evita que el algoritmo se estanque en una solución subóptima."
      ],
      "metadata": {
        "id": "icmCoQsv9gc0"
      }
    },
    {
      "cell_type": "code",
      "execution_count": 1,
      "metadata": {
        "id": "BCx15xoM63jg"
      },
      "outputs": [],
      "source": [
        "import random\n",
        "\n",
        "# Definir parámetros del algoritmo genético\n",
        "target = \"HELLO WORLD\"\n",
        "population_size = 100\n",
        "mutation_rate = 0.01\n",
        "\n",
        "# Función para generar una cadena aleatoria\n",
        "def generate_random_string(length):\n",
        "    return ''.join(random.choice(\"ABCDEFGHIJKLMNOPQRSTUVWXYZ \") for _ in range(length))\n",
        "\n",
        "# Función para evaluar la aptitud de una cadena (número de caracteres coincidentes)\n",
        "def fitness(string):\n",
        "    return sum(1 for expected, actual in zip(target, string) if expected == actual)\n",
        "\n",
        "# Función para seleccionar individuos para la reproducción (ruleta)\n",
        "def selection(population):\n",
        "    total_fitness = sum(fitness(individual) for individual in population)\n",
        "    r = random.uniform(0, total_fitness)\n",
        "    partial_sum = 0\n",
        "    for individual in population:\n",
        "        partial_sum += fitness(individual)\n",
        "        if partial_sum >= r:\n",
        "            return individual\n",
        "\n",
        "# Función para cruzar dos cadenas (un punto de cruce)\n",
        "def crossover(parent1, parent2):\n",
        "    crossover_point = random.randint(0, len(parent1) - 1)\n",
        "    child1 = parent1[:crossover_point] + parent2[crossover_point:]\n",
        "    child2 = parent2[:crossover_point] + parent1[crossover_point:]\n",
        "    return child1, child2\n",
        "\n",
        "# Función para mutar una cadena (cambiar un carácter)\n",
        "def mutate(string):\n",
        "    mutated_index = random.randint(0, len(string) - 1)\n",
        "    mutated_char = random.choice(\"ABCDEFGHIJKLMNOPQRSTUVWXYZ \")\n",
        "    mutated_string = string[:mutated_index] + mutated_char + string[mutated_index + 1:]\n",
        "    return mutated_string\n"
      ]
    },
    {
      "cell_type": "markdown",
      "source": [
        "**Método run_genetic_algorithm:**\n",
        "\n",
        "Este es el corazón del algoritmo. Aquí es donde ocurre la evolución de la población:\n",
        "\n",
        "Generamos una población inicial de cadenas aleatorias.\n",
        "* En un bucle, seleccionamos padres, los cruzamos y aplicamos mutaciones.\n",
        "* Repetimos este proceso hasta que encontramos una solución que coincide con nuestro objetivo.\n",
        "* Luego imprimimos cuántas generaciones tardó en encontrar la solución y cuál es la mejor solución encontrada.\n"
      ],
      "metadata": {
        "id": "4uoTbwjGA1O7"
      }
    },
    {
      "cell_type": "code",
      "source": [
        "\n",
        "# Generar una población inicial\n",
        "population = [generate_random_string(len(target)) for _ in range(population_size)]\n",
        "\n",
        "# Bucle principal del algoritmo genético\n",
        "generations = 0\n",
        "while True:\n",
        "    # Seleccionar dos padres y cruzarlos para producir descendencia\n",
        "    new_population = []\n",
        "    for _ in range(population_size):\n",
        "        parent1 = selection(population)\n",
        "        parent2 = selection(population)\n",
        "        child1, child2 = crossover(parent1, parent2)\n",
        "        # Aplicar mutación\n",
        "        if random.random() < mutation_rate:\n",
        "            child1 = mutate(child1)\n",
        "        if random.random() < mutation_rate:\n",
        "            child2 = mutate(child2)\n",
        "        new_population.extend([child1, child2])\n",
        "\n",
        "    # Reemplazar la población anterior con la nueva generación\n",
        "    population = new_population\n",
        "\n",
        "    # Comprobar si se ha encontrado la solución\n",
        "    best_individual = max(population, key=fitness)\n",
        "    if fitness(best_individual) == len(target):\n",
        "        break\n",
        "\n",
        "    generations += 1\n",
        "\n",
        "print(\"Generations:\", generations)\n",
        "print(\"Best solution:\", best_individual)\n"
      ],
      "metadata": {
        "colab": {
          "base_uri": "https://localhost:8080/"
        },
        "id": "9GAvy1aj7aLC",
        "outputId": "50d36a27-a25a-4da8-8847-0ba730032399"
      },
      "execution_count": 2,
      "outputs": [
        {
          "output_type": "stream",
          "name": "stdout",
          "text": [
            "Generations: 23\n",
            "Best solution: HELLO WORLD\n"
          ]
        }
      ]
    },
    {
      "cell_type": "markdown",
      "source": [
        "**Paso 1: Generación Inicial**\n",
        "\n",
        "Comenzamos con una población inicial de cadenas aleatorias del mismo tamaño que nuestro objetivo. Por ejemplo, podríamos tener una población inicial con 5 cadenas aleatorias:\n",
        "\n",
        "Población Inicial:\n",
        "1. OLIVP\n",
        "2. WQRND\n",
        "3. XGYEQ\n",
        "4. HKYPL\n",
        "5. LZQCO"
      ],
      "metadata": {
        "id": "kTLzWdPDCOZh"
      }
    },
    {
      "cell_type": "markdown",
      "source": [
        "**Paso 2: Evaluación de la Aptitud**\n",
        "\n",
        "Evaluamos cada cadena de la población para determinar qué tan cerca está de nuestro objetivo. Calculamos la aptitud de cada cadena contando cuántas letras coinciden con la cadena objetivo \"HELLO\".\n",
        "\n",
        "Evaluación de la Aptitud:\n",
        "1. OLIVP - Aptitud: 1\n",
        "2. WQRND - Aptitud: 0\n",
        "3. XGYEQ - Aptitud: 0\n",
        "4. HKYPL - Aptitud: 2\n",
        "5. LZQCO - Aptitud: 0"
      ],
      "metadata": {
        "id": "XnJqIa-3CZbV"
      }
    },
    {
      "cell_type": "markdown",
      "source": [
        "**Paso 3: Selección**\n",
        "\n",
        "Seleccionamos individuos de la población actual para la reproducción. Utilizamos un método similar a una ruleta, donde las cadenas con una mayor aptitud tienen una mayor probabilidad de ser seleccionadas. Por ejemplo, seleccionamos las cadenas 1, 4 y 5 para reproducirse.\n",
        "\n",
        "**Paso 4: Cruce**\n",
        "\n",
        "Cruzamos las cadenas seleccionadas para producir descendencia. Podemos utilizar un punto de cruce aleatorio para combinar partes de las cadenas de los padres. Por ejemplo, podríamos cruzar las cadenas 1 y 4 en el punto de cruce \"I\", y las cadenas 4 y 5 en el punto de cruce \"Y\".\n",
        "\n",
        "Descendencia:\n",
        "1. OLIPL\n",
        "2. HKPLP\n"
      ],
      "metadata": {
        "id": "eCn_sjnpDClg"
      }
    },
    {
      "cell_type": "markdown",
      "source": [
        "**Paso 5: Mutación**\n",
        "\n",
        "Ocasionalmente, aplicamos mutaciones a la descendencia para introducir variabilidad. Por ejemplo, podríamos mutar una letra aleatoria en una de las cadenas de la descendencia.\n",
        "\n",
        "Mutación:\n",
        "1. OLIPL (sin mutación)\n",
        "2. HKPLP (mutado a HKPLL)\n",
        "\n",
        "**Paso 6: Reemplazo**\n",
        "\n",
        "Reemplazamos la población anterior con la nueva generación (descendencia).\n",
        "\n",
        "**Paso 7: Repetición del Proceso**\n",
        "\n",
        "Después de completar un ciclo de selección, cruce, mutación y reemplazo, repetimos los pasos del 2 al 7 hasta que encontramos una solución que coincide con nuestro objetivo \"HELLO\" o hasta alcanzar un número máximo de generaciones.\n",
        "\n",
        "**Paso 8: Solución Encontrada**\n",
        "\n",
        "Una vez que encontramos una solución que coincide con nuestro objetivo, el algoritmo genético se detiene y la mejor solución encontrada se presenta como resultado."
      ],
      "metadata": {
        "id": "QeEaG33QD2So"
      }
    },
    {
      "cell_type": "markdown",
      "source": [
        "Generación 1:\n",
        "Población Inicial:\n",
        "1. OLIVP - Aptitud: 1\n",
        "2. WQRND - Aptitud: 0\n",
        "3. XGYEQ - Aptitud: 0\n",
        "4. HKYPL - Aptitud: 2\n",
        "5. LZQCO - Aptitud: 0\n",
        "\n",
        "Selección:\n",
        "- Seleccionamos las cadenas 1, 4 y 5.\n",
        "\n",
        "Cruce:\n",
        "- Cruzamos las cadenas 1 y 4 en el punto de cruce \"I\", y las cadenas 4 y 5 en el punto de cruce \"Y\".\n",
        "Descendencia:\n",
        "1. OLIPL\n",
        "2. HKPLP\n",
        "\n",
        "Mutación:\n",
        "1. OLIPL (sin mutación)\n",
        "2. HKPLP (mutado a HKPLL)\n",
        "\n",
        "Nueva Generación:\n",
        "1. OLIPL\n",
        "2. HKPLL\n",
        "\n",
        "Generación 2:\n",
        "Población Actual:\n",
        "1. OLIPL - Aptitud: 2\n",
        "2. HKPLL - Aptitud: 3\n",
        "\n",
        "Solución Encontrada:\n",
        "- ¡La cadena \"HELLO\" ha sido encontrada!"
      ],
      "metadata": {
        "id": "mTEXVlJeEswO"
      }
    },
    {
      "cell_type": "code",
      "source": [
        "import random\n",
        "\n",
        "def fitness(x):\n",
        "    \"\"\"Calcula la aptitud de un valor de x evaluado en la función objetivo.\"\"\"\n",
        "    return x**2 - 4*x + 4\n",
        "\n",
        "def selection(population):\n",
        "    \"\"\"Selecciona valores de x para la reproducción.\"\"\"\n",
        "    return min(population, key=fitness)\n",
        "\n",
        "def crossover(parent1, parent2):\n",
        "    \"\"\"Cruza dos valores de x para producir descendencia.\"\"\"\n",
        "    return (parent1 + parent2) / 2  # Tomamos el promedio de los padres\n",
        "\n",
        "def mutate(x):\n",
        "    \"\"\"Aplica una mutación a un valor de x.\"\"\"\n",
        "    mutation_amount = random.uniform(-0.1, 0.1)  # Cambio aleatorio pequeño\n",
        "    return x + mutation_amount\n",
        "\n",
        "def genetic_algorithm():\n",
        "    \"\"\"Ejecuta el algoritmo genético.\"\"\"\n",
        "    # Generación inicial de valores de x\n",
        "    population = [random.uniform(-10, 10) for _ in range(10)]\n",
        "\n",
        "    generations = 0\n",
        "    while True:\n",
        "        # Selección\n",
        "        selected_x = selection(population)\n",
        "\n",
        "        # Cruce\n",
        "        child_x = crossover(selected_x, selected_x)  # Como solo tenemos un padre, simplemente repetimos\n",
        "\n",
        "        # Mutación\n",
        "        child_x = mutate(child_x)\n",
        "\n",
        "        # Reemplazo\n",
        "        population.append(child_x)\n",
        "        population.remove(max(population, key=fitness))\n",
        "\n",
        "        # Comprobar si se ha encontrado la solución\n",
        "        if abs(fitness(child_x)) < 0.0001:  # Condición de parada\n",
        "            break\n",
        "\n",
        "        generations += 1\n",
        "\n",
        "    print(\"Generations:\", generations)\n",
        "    print(\"Best solution (x):\", child_x)\n",
        "\n",
        "# Ejemplo de uso\n",
        "if __name__ == \"__main__\":\n",
        "    genetic_algorithm()\n"
      ],
      "metadata": {
        "colab": {
          "base_uri": "https://localhost:8080/"
        },
        "id": "hq-2-p7i9j07",
        "outputId": "c0154fdd-1559-4cc1-d7fb-1f8b894b4bf3"
      },
      "execution_count": 1,
      "outputs": [
        {
          "output_type": "stream",
          "name": "stdout",
          "text": [
            "Generations: 41\n",
            "Best solution (x): 2.005271994164928\n"
          ]
        }
      ]
    },
    {
      "cell_type": "markdown",
      "source": [
        "**Paso 1: Generación Inicial**\n",
        "\n",
        "Empezamos con una población inicial de valores de\n",
        "x. Por ejemplo, podríamos tener una lista de 5 valores de\n",
        "x aleatorios entre -10 y 10:\n",
        "\n",
        "Población Inicial:\n",
        "1. -3\n",
        "2. 5\n",
        "3. -1\n",
        "4. 7\n",
        "5. 0\n",
        "\n",
        "\n",
        "**Paso 2: Evaluación de la Aptitud**\n",
        "\n",
        "Calculamos la aptitud de cada valor de\n",
        "x evaluando la función objetivo\n",
        "f(x). En nuestro caso, la aptitud se determina evaluando qué tan cerca está el valor de x de minimizar la función.\n",
        "\n",
        "Evaluación de la Aptitud:\n",
        "1. -3: f(-3) = (-3)^2 - 4*(-3) + 4 = 25\n",
        "2. 5: f(5) = (5)^2 - 4*(5) + 4 = 9\n",
        "3. -1: f(-1) = (-1)^2 - 4*(-1) + 4 = 9\n",
        "4. 7: f(7) = (7)^2 - 4*(7) + 4 = 25\n",
        "5. 0: f(0) = (0)^2 - 4*(0) + 4 = 4\n",
        "\n",
        "\n",
        "**Paso 4: Cruce**\n",
        "\n",
        "Cruzamos los valores de\n",
        "x seleccionados para producir descendencia. Aquí, podríamos tomar el promedio de los valores seleccionados como punto de cruce.\n",
        "\n",
        "Cruce:\n",
        "- Seleccionamos los valores -1 y 0 para cruzar.\n",
        "- Tomamos el promedio de estos valores: (0 - 1) / 2 = -0.5\n",
        "\n",
        "**Paso 5: Mutación**\n",
        "\n",
        "Ocasionalmente, aplicamos mutaciones a la descendencia para introducir variabilidad. Por ejemplo, podríamos aumentar o disminuir ligeramente el valor de x.\n",
        "\n",
        "Mutación:\n",
        "- Agregamos una pequeña cantidad aleatoria al valor de x mutado. Por ejemplo, podríamos agregar 0.1: -0.5 + 0.1 = -0.4\n",
        "\n",
        "\n",
        "**Paso 6: Reemplazo**\n",
        "\n",
        "Reemplazamos el peor valor de\n",
        "x en la población original con el valor mutado.\n",
        "\n",
        "**Paso 7: Repetición del Proceso**\n",
        "\n",
        "Repetimos los pasos del 2 al 6 hasta que encontramos una solución satisfactoria o hasta alcanzar un número máximo de generaciones.\n",
        "\n",
        "**Paso 8: Solución Encontrada**\n",
        "\n",
        "Una vez que encontramos un valor de x que minimiza la función objetivo, el algoritmo se detiene y presenta el valor de\n",
        "x correspondiente."
      ],
      "metadata": {
        "id": "eRUAVUuwAJsX"
      }
    }
  ]
}