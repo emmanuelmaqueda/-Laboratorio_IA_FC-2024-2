{
  "nbformat": 4,
  "nbformat_minor": 0,
  "metadata": {
    "colab": {
      "provenance": []
    },
    "kernelspec": {
      "name": "python3",
      "display_name": "Python 3"
    },
    "language_info": {
      "name": "python"
    }
  },
  "cells": [
    {
      "cell_type": "markdown",
      "source": [
        "# Busqueda Adversaria\n",
        "\n",
        "## Juego del gato\n",
        "\n",
        "El juego del gato consta en un tablero de 3x3 donde cada jugador marca con un signo distintivo (o y x) una casilla. El jugador que pueda completar un renglón, una columna o una diagonal con sólo los signos que le corresponden ganará el juego.\n",
        "\n",
        "Para simular esto, tenemos que determinar una función que nos diga cuando las variables (casillas del tablero) son iguales, para identificar cuando se ha completado un juego ganador."
      ],
      "metadata": {
        "id": "KL1hCp0ZDY9H"
      }
    },
    {
      "cell_type": "code",
      "execution_count": 1,
      "metadata": {
        "id": "OFr5RrmS_vNN"
      },
      "outputs": [],
      "source": [
        "import numpy as np\n",
        "from itertools import combinations\n",
        "\n",
        "def allsim(variables):\n",
        "    \"\"\"Revisa si son similares todas las variables\"\"\"\n",
        "    for x_i,x_j in combinations(variables, 2):\n",
        "        if x_i != x_j:\n",
        "            return False\n",
        "\n",
        "    return True"
      ]
    },
    {
      "cell_type": "markdown",
      "source": [
        "Nuestro simulador para jugar gato consistirá en un tablero de 3x3\n",
        " (una matriz) en donde cada jugador colocará un símbolo, 'x' ó 'o', para intentar formar una fila, columna o diagonal con estos símbolos.\n",
        "\n",
        "\n",
        "Definimos las siguientes funciones:\n",
        "\n",
        "to_move: Determina quién es jugador al que le corresponde la jugada.\n",
        "\n",
        "change_player: Cambia de jugador cuando se ha terminado una jugada.\n",
        "\n",
        "actions: Regresa las coordenadas de las acciones posibles del estado actual del tablero; es decir, aquellas casillas que no han sido marcadas.\n",
        "\n",
        "result: Regresa el resultado de la acción (marcar una casilla) dado el estado actual del tablero.\n",
        "\n",
        "is_terminal: Revisa si el estado actual del tablero es un estado final, es decir, si alguno de los dos jugadores ha ganado. Si es así regresa True.\n",
        "\n",
        "utility: Es la función de utilidad definida como:\n",
        "\n",
        "![image.png](data:image/png;base64,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)"
      ],
      "metadata": {
        "id": "eXGEWIGKDug1"
      }
    },
    {
      "cell_type": "code",
      "source": [
        "class Gato():\n",
        "    \"\"\"Clase para simular el juego de gato\"\"\"\n",
        "    def __init__(self):\n",
        "        #Tablero de 3x3\n",
        "        self.board = np.zeros((3,3))\n",
        "        #Guarda el jugador previo\n",
        "        self.previous_player = None\n",
        "        #Guarda el jugador actual\n",
        "        self.player = 1\n",
        "\n",
        "    def __str__(self):\n",
        "        \"\"\"Imprime tablero\"\"\"\n",
        "        board = ''\n",
        "        for row_i in self.board:\n",
        "            row = '|'\n",
        "            for val in row_i:\n",
        "                if val == 0:\n",
        "                    row += ' |'\n",
        "                elif val == 1:\n",
        "                    row += 'o|'\n",
        "                else:\n",
        "                    row += 'x|'\n",
        "            board += row + '\\n'\n",
        "\n",
        "        return board\n",
        "\n",
        "    def to_move(self):\n",
        "        \"\"\"Quién moverá en el turno\"\"\"\n",
        "        return self.player\n",
        "\n",
        "    def change_player(self):\n",
        "        \"\"\"Cambia el turno de cada jugador\"\"\"\n",
        "        if self.player == 1:\n",
        "            self.player = 2\n",
        "        elif self.player == 2:\n",
        "            self.player = 1\n",
        "\n",
        "    def actions(self, state):\n",
        "        \"\"\"La posibles acciones que se pueden realizar\"\"\"\n",
        "        #En dónde hay espacios para marcar\n",
        "        return np.stack(np.where(state == 0)).T\n",
        "\n",
        "    def result(self, state, action):\n",
        "        \"\"\"Resultado de la acción de cada jugador\"\"\"\n",
        "        if self.player == 1:\n",
        "            state[action[0],action[1]] = 1\n",
        "            return state\n",
        "        elif self.player == 2:\n",
        "            state[action[0],action[1]] = -1\n",
        "            return state\n",
        "\n",
        "    def is_terminal(self, state):\n",
        "        \"\"\"Determina si un estado es final o no\n",
        "        El estado es final si un renglón, columna o diagonal tienen los mismos símbolos\"\"\"\n",
        "        rows, columns = False, False\n",
        "        for i in range(3):\n",
        "            rows = rows or allsim(list(state[i])+[1]) or allsim(list(state[i])+[-1])\n",
        "            columns = columns or allsim(list(state.T[i])+[1]) or allsim(list(state.T[i])+[-1])\n",
        "        diag1 = allsim([state[0,0],state[1,1],state[2,2],1]) or allsim([state[0,0],state[1,1],state[2,2],-1])\n",
        "        diag2 = allsim([state[0,2],state[1,1],state[2,0],1]) or allsim([state[0,2],state[1,1],state[2,0],-1])\n",
        "        draw = list(self.actions(state))==[]\n",
        "\n",
        "        return rows or columns or diag1 or diag2\n",
        "\n",
        "    def utility(self, state, player=1):\n",
        "        \"\"\"Función de utilidad de cada jugador\"\"\"\n",
        "        if player == 1:\n",
        "            w = 1\n",
        "        else:\n",
        "            w = -1\n",
        "\n",
        "        if list(self.actions(state))==[]:\n",
        "            return 0\n",
        "        elif allsim([state[0,0],state[1,1],state[2,2]]):\n",
        "                return w*state[1,1]\n",
        "        elif allsim([state[0,2],state[1,1],state[2,0]]):\n",
        "                return w*state[1,1]\n",
        "        else:\n",
        "            for i in range(3):\n",
        "                if allsim(state[i]):\n",
        "                    return w*state[i,1]\n",
        "                elif allsim(state.T[i]):\n",
        "                    return w*state[1,i]"
      ],
      "metadata": {
        "id": "yY7JyvM3D13G"
      },
      "execution_count": 2,
      "outputs": []
    },
    {
      "cell_type": "code",
      "source": [
        "game = Gato()\n",
        "print(game)\n",
        "print('Coordenadas de posibles movimientos:\\n{}'.format(game.actions(game.board)))"
      ],
      "metadata": {
        "colab": {
          "base_uri": "https://localhost:8080/"
        },
        "id": "YBXIxWKREtok",
        "outputId": "eb81e7bc-435e-4ea9-8a5e-cceb50f31ad8"
      },
      "execution_count": 3,
      "outputs": [
        {
          "output_type": "stream",
          "name": "stdout",
          "text": [
            "| | | |\n",
            "| | | |\n",
            "| | | |\n",
            "\n",
            "Coordenadas de posibles movimientos:\n",
            "[[0 0]\n",
            " [0 1]\n",
            " [0 2]\n",
            " [1 0]\n",
            " [1 1]\n",
            " [1 2]\n",
            " [2 0]\n",
            " [2 1]\n",
            " [2 2]]\n"
          ]
        }
      ]
    },
    {
      "cell_type": "code",
      "source": [],
      "metadata": {
        "colab": {
          "base_uri": "https://localhost:8080/"
        },
        "id": "NrwsMs7nE0zc",
        "outputId": "3fa374cc-aad9-462c-caf6-8dcc4ca974a0"
      },
      "execution_count": 4,
      "outputs": [
        {
          "output_type": "stream",
          "name": "stdout",
          "text": [
            "Jugador actual: 1\n",
            "| | | |\n",
            "| |o| |\n",
            "| | | |\n",
            "\n"
          ]
        }
      ]
    },
    {
      "cell_type": "code",
      "source": [],
      "metadata": {
        "id": "t8rus8oreQID"
      },
      "execution_count": null,
      "outputs": []
    },
    {
      "cell_type": "code",
      "source": [],
      "metadata": {
        "colab": {
          "base_uri": "https://localhost:8080/"
        },
        "id": "iztHkGonE-2F",
        "outputId": "bbc61243-5a51-4b11-b78d-bd8478e15dc2"
      },
      "execution_count": 5,
      "outputs": [
        {
          "output_type": "stream",
          "name": "stdout",
          "text": [
            "Jugador actual: 2\n",
            "| | |x|\n",
            "| |o| |\n",
            "| | | |\n",
            "\n"
          ]
        }
      ]
    },
    {
      "cell_type": "code",
      "source": [
        "for i in range(7):\n",
        "    print('Jugador actual: {}'.format(game.to_move()))\n",
        "    #Selecciona acción aleatoriamente\n",
        "    actions = game.actions(game.board)\n",
        "    a = actions[np.random.choice(range(len(actions)))]\n",
        "    #Realiza jugada\n",
        "    game.board = game.result(game.board, a)\n",
        "    game.change_player()\n",
        "    print(game)"
      ],
      "metadata": {
        "colab": {
          "base_uri": "https://localhost:8080/"
        },
        "id": "zTNmPjG_FD1d",
        "outputId": "56d1571e-bc22-4b38-8cfe-06fc7548f8ef"
      },
      "execution_count": 6,
      "outputs": [
        {
          "output_type": "stream",
          "name": "stdout",
          "text": [
            "Jugador actual: 1\n",
            "| | |x|\n",
            "| |o|o|\n",
            "| | | |\n",
            "\n",
            "Jugador actual: 2\n",
            "| | |x|\n",
            "|x|o|o|\n",
            "| | | |\n",
            "\n",
            "Jugador actual: 1\n",
            "|o| |x|\n",
            "|x|o|o|\n",
            "| | | |\n",
            "\n",
            "Jugador actual: 2\n",
            "|o| |x|\n",
            "|x|o|o|\n",
            "| |x| |\n",
            "\n",
            "Jugador actual: 1\n",
            "|o| |x|\n",
            "|x|o|o|\n",
            "| |x|o|\n",
            "\n",
            "Jugador actual: 2\n",
            "|o| |x|\n",
            "|x|o|o|\n",
            "|x|x|o|\n",
            "\n",
            "Jugador actual: 1\n",
            "|o|o|x|\n",
            "|x|o|o|\n",
            "|x|x|o|\n",
            "\n"
          ]
        }
      ]
    },
    {
      "cell_type": "markdown",
      "source": [
        "## Algoritmo de búsqueda Minimax\n",
        "\n",
        "El algoritmo de búsqueda Minimax es un algoritmo para resolver problemas de búsqueda adversas. Las búsquedas adversarias se dan en entornos multi-agente y completitivos; **es decir, en aquellos entornos en donde maximizar la función de utilidad de un jugador afecta a la utilidad del otro o los otros jugadores.**\n",
        "\n",
        "El algoritmo de Minimax se basa en un árbol de búsqueda en donde se representan los movimientos de los adversarios.\n",
        "\n",
        "Por ejemplo, a partir del nodo raíz, el jugador 1, que llamaremos Max, será el que pueda realziar ciertos movimientos. De los nodos expandidos, el jugador 2, que llamaremos Min, podrá realizar diferentes movimientos de acuerdo a los nodos que ha expandido Max.\n",
        "\n",
        "El árbol buscará un un camino hacia un estado final en que alguno de los dos jugadores, Min o Max, haya logrado una victoria, o en donde no se puedan expandir más nodos (lo que podría corresponder a un empate)."
      ],
      "metadata": {
        "id": "dyjExA9rFSgH"
      }
    },
    {
      "cell_type": "markdown",
      "source": [
        "##Valores para Max y Min\n",
        "\n",
        "Para el algoritmo de Minimax, ambos jugadores deben buscar los mejores movimientos para lograr ganar el juego. Para esto se definen dos funciones que determinan los movimientos posibles y los valores de estos movimientos. Los valores de Max comienzan en -∞ por lo que se buscarán maximizar sus valores, mientras que Min comienza en ∞ para buscar minimizar los valores.\n",
        "\n",
        "De esta forma, la idea es que los dos jugadores, Max y Min, compitan, uno buscando maximizar el valor, mientras que el otro minimizándolo.\n",
        "\n",
        "La estrategia de Max será como sigue:\n",
        "\n",
        "* Comienza con un movimiento y un valor bajos.\n",
        "* Se explorarán las acciones, y se verá el valor que Min podrá alcanzar con tal acción, si el valor de Min es mayor al valor actual de Max, se tomará esa acción.\n",
        "* Esto se repetirá para todas las acciones, de tal forma que se elegirá la acción que tenga siempre el valor más alto para Max.\n",
        "\n",
        "Para Min se hará lo mimso pero buscando la acción que minimice el valor. Estas funciones son recursivas y buscan los valores de utilidad que se han alcanzado al final de la búsqueda de los árboles para ir eligiendo las mejores acciones para cada jugador."
      ],
      "metadata": {
        "id": "Xc05Gj08GAoF"
      }
    },
    {
      "cell_type": "code",
      "source": [
        "import numpy as np\n",
        "\n",
        "def max_value(game, state):\n",
        "    \"\"\"Valores de los movimientos de Max\"\"\"\n",
        "    if game.is_terminal(state):\n",
        "        #Si el estado es terminal regresa la utilidad\n",
        "        return game.utility(state), None\n",
        "\n",
        "    #Valores se inicializan bajos\n",
        "    v, move = -np.inf, -np.inf\n",
        "    for a in game.actions(state):\n",
        "        #Revisa los posibles movimientos de Min con acción a\n",
        "        v2, a2 = min_value(game, game.result(state, a))\n",
        "        #Si el posible movimiento de Min es mayor,\n",
        "        #antícipalo y toma éste\n",
        "        if v2 > v:\n",
        "            v, move = v2, a\n",
        "    return v, move\n",
        "\n",
        "def min_value(game, state):\n",
        "    \"\"\"Valores de los movimientos de Min\"\"\"\n",
        "    if game.is_terminal(state):\n",
        "        #Si el estado es terminal regresa la utilidad\n",
        "        return game.utility(state), None\n",
        "\n",
        "    #Valores se inicializan altos\n",
        "    v, move = np.inf, np.inf\n",
        "    for a in game.actions(state):\n",
        "        #Revisa los posibles movimientos de Max con acción a\n",
        "        v2, a2 = max_value(game, game.result(state, a))\n",
        "        #Si el posible movimiento de Max es menor,\n",
        "        #antícipalo y toma éste\n",
        "        if v2 < v:\n",
        "            v, move = v2, a\n",
        "\n",
        "    return v, move"
      ],
      "metadata": {
        "id": "52HbHF8dGkni"
      },
      "execution_count": 7,
      "outputs": []
    },
    {
      "cell_type": "markdown",
      "source": [
        "## Algoritmo Minimax\n",
        "\n",
        "El algoritmo de Minimax hará uso de las funciones anteriores para buscar maximizar las acciones de Max (si se utiliza la función de Min, buscará que este jugador gane).\n",
        "\n",
        "El algoritmo simplemente llama a la función max_value para elegir la acción actual más conveniente en base al valor para este jugador. Esto lo repetirá hasta que el juego acabe. Cuando no pueda continuar (pues las búsquedas en el árbol se han agotado) regresará los valores obtenidos."
      ],
      "metadata": {
        "id": "KhEGeR1FG-TC"
      }
    },
    {
      "cell_type": "code",
      "source": [
        "\n",
        "def minimax(game):\n",
        "    \"\"\"Algoritmo de búsqueda Minimax\"\"\"\n",
        "    #Estado inicial del juego\n",
        "    state = game.board\n",
        "    #Guarda las jugadas realziadas\n",
        "    jugadas = []\n",
        "    value, move = max_value(game, state.copy())\n",
        "\n",
        "    while True:\n",
        "        #Obtiene valor y movimiento para Max\n",
        "        value, move = max_value(game, state.copy())\n",
        "\n",
        "        try:\n",
        "            #Realiza la jugada y cambia de jugador\n",
        "            state = game.result(state, move)\n",
        "            jugadas.append((game.player, move))\n",
        "            game.change_player()\n",
        "\n",
        "        except:\n",
        "            #Regresa el resultado final\n",
        "            result = Gato()\n",
        "            result.board = state\n",
        "            return result, jugadas, value"
      ],
      "metadata": {
        "id": "K9AD96JbG9_0"
      },
      "execution_count": 8,
      "outputs": []
    },
    {
      "cell_type": "code",
      "source": [
        "\n",
        "#Creación del juego de gato\n",
        "game = Gato()\n",
        "\n",
        "#Aplicación del algoritmo\n",
        "result, jugadas, utilidad = minimax(game)\n",
        "\n",
        "#Imprime el resultado del juego\n",
        "print(result)\n",
        "#Imprime las jugadas realizadas\n",
        "print('\\nJugadas realizadas:')\n",
        "for j in jugadas:\n",
        "    print('\\tPlayer: {} - Position: {}'.format(j[0], j[1]))\n",
        "#Imprime la utilidad final\n",
        "print('\\nUtilidad:{}'.format(utilidad))"
      ],
      "metadata": {
        "colab": {
          "base_uri": "https://localhost:8080/"
        },
        "id": "1SQpb_zCHNGz",
        "outputId": "91f32af5-baf0-4d01-e350-c9af91e58d3f"
      },
      "execution_count": 10,
      "outputs": [
        {
          "output_type": "stream",
          "name": "stdout",
          "text": [
            "|o|x|o|\n",
            "|x|o|x|\n",
            "|o| | |\n",
            "\n",
            "\n",
            "Jugadas realizadas:\n",
            "\tPlayer: 1 - Position: [0 0]\n",
            "\tPlayer: 2 - Position: [0 1]\n",
            "\tPlayer: 1 - Position: [0 2]\n",
            "\tPlayer: 2 - Position: [1 0]\n",
            "\tPlayer: 1 - Position: [1 1]\n",
            "\tPlayer: 2 - Position: [1 2]\n",
            "\tPlayer: 1 - Position: [2 0]\n",
            "\n",
            "Utilidad:1.0\n"
          ]
        }
      ]
    }
  ]
}